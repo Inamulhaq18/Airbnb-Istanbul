{
  "nbformat": 4,
  "nbformat_minor": 0,
  "metadata": {
    "colab": {
      "name": "Presentation ocscl_PMS.ipynb",
      "provenance": [],
      "collapsed_sections": [],
      "authorship_tag": "ABX9TyMw/8tQY2DhiU51vqgO39/G",
      "include_colab_link": true
    },
    "kernelspec": {
      "name": "python3",
      "display_name": "Python 3"
    },
    "language_info": {
      "name": "python"
    }
  },
  "cells": [
    {
      "cell_type": "markdown",
      "metadata": {
        "id": "view-in-github",
        "colab_type": "text"
      },
      "source": [
        "<a href=\"https://colab.research.google.com/github/Inamulhaq18/Airbnb-Istanbul/blob/main/OCSCL_Parser_PMS.ipynb\" target=\"_parent\"><img src=\"https://colab.research.google.com/assets/colab-badge.svg\" alt=\"Open In Colab\"/></a>"
      ]
    },
    {
      "cell_type": "code",
      "execution_count": 1,
      "metadata": {
        "colab": {
          "base_uri": "https://localhost:8080/"
        },
        "id": "grfv0HnL1JjG",
        "outputId": "1bd13c16-b287-466c-c410-4825160f86f7"
      },
      "outputs": [
        {
          "output_type": "stream",
          "name": "stdout",
          "text": [
            "Mounted at /content/gdrive\n"
          ]
        }
      ],
      "source": [
        "from google.colab import drive\n",
        "\n",
        "drive.mount('/content/gdrive')"
      ]
    },
    {
      "cell_type": "markdown",
      "source": [
        "#### PMS file input"
      ],
      "metadata": {
        "id": "uZnXPyjGqlBa"
      }
    },
    {
      "cell_type": "code",
      "source": [
        "#loading the data from drive\n",
        "with open('gdrive/MyDrive/example.pms') as f:\n",
        "    lines = f.readlines()\n",
        "#lines"
      ],
      "metadata": {
        "id": "2_H_OQj31jZE"
      },
      "execution_count": 3,
      "outputs": []
    },
    {
      "cell_type": "markdown",
      "source": [
        "### Reading the number of B/L "
      ],
      "metadata": {
        "id": "CAUTihYVqvUV"
      }
    },
    {
      "cell_type": "code",
      "source": [
        "#totalbookings\n",
        "#get the start of each line 12\n",
        "headings=[]\n",
        "for line in lines:\n",
        "    if ((line[0]==\"1\") and (line[1]==\"2\")):\n",
        "      headings.append(line)\n",
        "totalbookings=len(headings)"
      ],
      "metadata": {
        "id": "-OEeF0Ul2KIX"
      },
      "execution_count": 4,
      "outputs": []
    },
    {
      "cell_type": "code",
      "source": [
        "print(\"This file contains :\",len(headings),\"BL Numbers\")"
      ],
      "metadata": {
        "colab": {
          "base_uri": "https://localhost:8080/"
        },
        "id": "xeHPDu-bre5C",
        "outputId": "51240e6b-2a85-480a-b4c8-5faba53e7474"
      },
      "execution_count": 5,
      "outputs": [
        {
          "output_type": "stream",
          "name": "stdout",
          "text": [
            "This file contains : 55 BL Numbers\n"
          ]
        }
      ]
    },
    {
      "cell_type": "code",
      "source": [
        "#code to exract content between two 12's\n",
        "content_for_each_BL=[lines[i] for i in range(lines.index(headings[0]),(lines.index(headings[1])))]\n",
        "#content_for_each_BL"
      ],
      "metadata": {
        "id": "M0FExKK0k1El"
      },
      "execution_count": 6,
      "outputs": []
    },
    {
      "cell_type": "code",
      "source": [
        "bookings=[]\n",
        "for item in range(0,len(headings)):\n",
        "  if headings[item]!=headings[-1]:#if it is any other element but the last\n",
        "    bookings.append([lines[i] for i in range(lines.index(headings[item]),(lines.index(headings[item+1])))])#fetching all the rows between two headings using index\n",
        "  else:#if it is the last item\n",
        "    bookings.append([lines[i] for i in range(lines.index(headings[item]),len(lines))])\n"
      ],
      "metadata": {
        "id": "lXEWPpw9O1dT"
      },
      "execution_count": 7,
      "outputs": []
    },
    {
      "cell_type": "code",
      "source": [
        "len(bookings)"
      ],
      "metadata": {
        "id": "HTgZJyfItSZw",
        "outputId": "34dee2a4-1260-40cb-85db-85895db6caa2",
        "colab": {
          "base_uri": "https://localhost:8080/"
        }
      },
      "execution_count": 9,
      "outputs": [
        {
          "output_type": "execute_result",
          "data": {
            "text/plain": [
              "55"
            ]
          },
          "metadata": {},
          "execution_count": 9
        }
      ]
    },
    {
      "cell_type": "markdown",
      "source": [
        "# It has to be a saudi port, "
      ],
      "metadata": {
        "id": "2wk1RYsUHZM4"
      }
    },
    {
      "cell_type": "code",
      "source": [
        "bookings[54]"
      ],
      "metadata": {
        "id": "gXxnDDwdtTZs",
        "colab": {
          "base_uri": "https://localhost:8080/"
        },
        "outputId": "77e2086f-dc6b-4038-edfd-6ff40afae72b"
      },
      "execution_count": 10,
      "outputs": [
        {
          "output_type": "execute_result",
          "data": {
            "text/plain": [
              "['12MUN100264000        MUN100264000        MUN100264000             SAJEDINMUNFF  YY   PYN20211017                                        F                                                    20211012PI PI P2100251161           KGS51000                \\n',\n",
              " '13   INMUNYEADESAJEDYEADEADEN                                                                       SAJED          Y1  3    LMS                                                                                                                           \\n',\n",
              " '14   01SHINMUNSAJEDTVQH80901W   202110172230202111030100HANSA ROTENBURG                                                                                                                                                                                   \\n',\n",
              " '14   02SHSAJEDYEADETKNZM0164E   202111031400202111051700KOTA NAZIM                                                                                                                                                                                        \\n',\n",
              " '15MUNDRA                                            MUNDRA                                            ADEN                                              ADEN                                              HANSA ROTENBURG                                 \\n',\n",
              " '16   IN101278         NIMEX TRADING CORPORATION                                             C/O. LAXMI RICE MILL,BECHARBHAI    GANDABHAI FARM,PANDOLI ROAD,       SHEKHDI,AT.PETLAD 388 450*                                                INMUN         \\n',\n",
              " '17   IN107652         S & K LOGISTIC                     ANANDNAGAR, NEAR SACHIN TOWER B-403                                                                                                                                                INMUN         \\n',\n",
              " '18   IN107652         S & K LOGISTIC                                                        Anandnagar, Near Sachin Tower B-403                                                                                       380015                AHMED         \\n',\n",
              " '21   YE102280         M/S.MOHAMMED AHMED DONIA                                              HANBEEK,HODEIDAH,REPUBLIC OF YEMEN.                                                                                                             YEADE         \\n',\n",
              " '26  1YE102280         M/S.MOHAMMED AHMED DONIA                                              HANBEEK,HODEIDAH,REPUBLIC OF YEMEN.                                                                                                             YEADE         \\n',\n",
              " '28   IN107652         S & K LOGISTIC                     ANANDNAGAR, NEAR SACHIN TOWER B-403                                                                                                                                                INMUN         \\n',\n",
              " '41   001         Y000002000400051000000           00000000000000000000TOBACCO, NOT STEMMED/STRIPPED                   240140HCKGMMTQY                                                                                                                     \\n',\n",
              " '44   001NIMEX               1  250              1 -250                                                                                                                                                                                                    \\n',\n",
              " '47   001500 BALES IN TOTAL            2X40HC CONTAINER(S) SAID TO CONTAIN:                        250 BALES INDIAN UNMANUFACTURED SAQR BRAND TOBACCO (S.F.)   250 BALES INDIAN UNMANUFACTURED SAQR BRAND TOBACCO (S.F.)   (TOTAL FIVE HUNDRED BALES)      \\n',\n",
              " '47   001S/BILL NO: 5289981   DT: 13.10.2021                         S/BILL NO: 5298640   DT: 14.10.2021                         NET WEIGHT: 50000.000 KGS.    *DIST. ANAND, GUJARAT. INDIA. 2ND NOTIFY PARTY:             M/S. KIBSONS INTERNATIONAL,     \\n',\n",
              " \"47   001DUBAI,                        U. A. E.                      SHIPPER'S LOAD STOW COUNT AND SEAL                                                                                                                                                    \\n\",\n",
              " '51   001001PCIU9055977N45G1F   KGMMTQ         000250BALE    025500000003840000000000000         BL                       IN0165699                                                                                                                        \\n',\n",
              " '51   001002PCIU9442750N45G1F   KGMMTQ         000250BALE    025500000003700000000000000         BL                       IN0165700                                                                                                                        \\n',\n",
              " '6100101BOF  INMUN00000200USD0000001573000    0000003146000+IN107652     0000000000000 PBASIC OCEAN FREIGHT           NYA            UNIIN12YN                                                                                                             \\n',\n",
              " '6100102SFFL INMUN00000100USD0000000015000    0000000015000+IN107652     0000000000000 PSYSTEM FACILITATION FEE (L)   NYA            JOBIN12YN                                                                                                             \\n',\n",
              " '6100103SFC  INMUN00000200USD0000000009000    0000000018000+IN107652     0000000000000 PSEAL FEE CHARGE (L)           NYA            UNIIN12YN                                                                                                             \\n',\n",
              " '6100104ZAD  INMUN00000100INR0000000800000    0000000800000+IN107652     0000000000000 PLOCAL ADMIN CHARGES           YYA            JOBIN12YN                                                                                                             \\n',\n",
              " '6100105BSH  INMUN00000200USD0000000154000    0000000308000+IN107652     0000000000000 PBUNKER SURCHARGE              NYA            UNIIN12YN                                                                                                             \\n',\n",
              " '6100106CGSD INMUN00000200USD0000000300000    0000000600000+IN107652     0000000000000 PCONGESTION SURCHARGE (D)      NYA            UNIIN12YN                                                                                                             \\n',\n",
              " '6100107ECH  INMUN00000200INR0000000165000    0000000330000+IN107652     0000000000000 PEQUIPMENT  CONTAINER HANDLING NYA            UNIIN12YN                                                                                                             \\n',\n",
              " '6100108ERSD INMUN00000200USD0000000098000    0000000196000+IN107652     0000000000000 PEMERGENCY RISK SURCHARGE (D)  NYA            UNIIN12YN                                                                                                             \\n',\n",
              " '6100109ISPD INMUN00000200USD0000000010000    0000000020000+IN107652     0000000000000 PISP FACILITY SECURITY (D)     NYA            UNIIN12YN                                                                                                             \\n',\n",
              " '6100110LSRL INMUN00000200USD0000000070000    0000000140000+IN107652     0000000000000 PLOW SULPHUR-FUEL RECOVERY     NYA            UNIIN12YN                                                                                                             \\n',\n",
              " '6100111OCRD INMUN00000200USD0000000405000    0000000810000+IN107652     0000000000000 POPERATIONAL COST RECOVERY (D) NYA            UNIIN12YN                                                                                                             \\n',\n",
              " '6100112THCL INMUN00000200INR0000014000000    0000028000000+IN107652     0000000000000 PTERMINAL HANDLING CHARGE (L)  NYA            UNIIN12YN                                                                                                             \\n',\n",
              " '6100113WRSD INMUN00000200USD0000001000000    0000002000000+IN107652     0000000000000 PWAR RISK SURCHARGE (D)        NYA            UNIIN12YN                                                                                                             \\n',\n",
              " '73BHANSA ROTENBURG 0901W/GATE OPEN 12/10/2021 (11th Midnight)  CUT OFF 15/10/2021 (0800 HRS)\\t SI CUT OFF 15/10/2021 (1500 H                                                                                                                               \\n',\n",
              " '73RSHIPPER HAS SURRENDER FULL SET OF ORIGINAL PIL BILL OF LANDING IN AHMEDABAD OFFICE. KINDLY RELEASE CARGO TO THE NAMED OF                                                                                                                               \\n',\n",
              " '74   INAMD20211017IN12MUNN0301MUN21A0142INMUNYEADE00000500PACKAGE               2021101720211021INAMD                       MUN21A01428                                                                                                                   \\n',\n",
              " '99   000055                                                                                                                                                                                                                                               \\n']"
            ]
          },
          "metadata": {},
          "execution_count": 10
        }
      ]
    },
    {
      "cell_type": "code",
      "source": [
        ""
      ],
      "metadata": {
        "id": "ZdWP_oQrtSxm"
      },
      "execution_count": 10,
      "outputs": []
    },
    {
      "cell_type": "code",
      "source": [
        "#example that will give all the information for a \n",
        "# we need to use bookings to move forward \n",
        "# so for each item in bookings we need to run functions to extract one by one\n"
      ],
      "metadata": {
        "id": "5A8Z4RdMQzxQ"
      },
      "execution_count": 11,
      "outputs": []
    },
    {
      "cell_type": "code",
      "source": [
        "#61 extract line items\n",
        "\n",
        "bookings[0][0].split()[3]"
      ],
      "metadata": {
        "colab": {
          "base_uri": "https://localhost:8080/",
          "height": 35
        },
        "id": "qgkpcYvVA_eH",
        "outputId": "713118c4-c845-46e9-f716-cc6e19a66a02"
      },
      "execution_count": 12,
      "outputs": [
        {
          "output_type": "execute_result",
          "data": {
            "application/vnd.google.colaboratory.intrinsic+json": {
              "type": "string"
            },
            "text/plain": [
              "'SAJEDINMUNFF'"
            ]
          },
          "metadata": {},
          "execution_count": 12
        }
      ]
    },
    {
      "cell_type": "markdown",
      "source": [
        "# SaudiBookings - count"
      ],
      "metadata": {
        "id": "aePtipOkQZbs"
      }
    },
    {
      "cell_type": "code",
      "source": [
        "#\n",
        "raw=[]\n",
        "def getlineitems():\n",
        "  for i in range(0,len(bookings)-1):\n",
        "   for line in bookings[i]:\n",
        "    if ((line[0]==\"1\") and (line[1]==\"3\")):\n",
        "      if \"SA\" in line[10:15]:\n",
        "         raw.append(bookings[i])\n",
        "  return(raw)\n",
        "getlineitems()\n",
        "len(raw)\n",
        "saudi_bookings=raw\n",
        "count_saudi_bookings=len(saudi_bookings)"
      ],
      "metadata": {
        "id": "Vk-JCjPG_CeZ"
      },
      "execution_count": 14,
      "outputs": []
    },
    {
      "cell_type": "markdown",
      "source": [
        "# Saudi bookings - BL numbers "
      ],
      "metadata": {
        "id": "MWjv3CWqUNsx"
      }
    },
    {
      "cell_type": "code",
      "source": [
        "count_saudi_bookings"
      ],
      "metadata": {
        "colab": {
          "base_uri": "https://localhost:8080/"
        },
        "id": "d0R2ORReUNFY",
        "outputId": "241248d8-5479-48a9-d809-306a31b91de3"
      },
      "execution_count": 15,
      "outputs": [
        {
          "output_type": "execute_result",
          "data": {
            "text/plain": [
              "13"
            ]
          },
          "metadata": {},
          "execution_count": 15
        }
      ]
    },
    {
      "cell_type": "code",
      "source": [
        "raw=[]\n",
        "def getlineitems(string):\n",
        "  for line in string:\n",
        "    if ((line[0]==\"6\") and (line[1]==\"1\")):\n",
        "      raw.append((line.split())[4:])\n",
        "  return(raw)\n",
        "getlineitems(bookings[5])"
      ],
      "metadata": {
        "id": "Axm6dA8QQeqd",
        "colab": {
          "base_uri": "https://localhost:8080/"
        },
        "outputId": "f0eb2313-0d29-4a58-be06-3d9b9873b1cc"
      },
      "execution_count": 16,
      "outputs": [
        {
          "output_type": "execute_result",
          "data": {
            "text/plain": [
              "[['PBASIC', 'OCEAN', 'FREIGHT', 'NYA', 'UNIIN10YN'],\n",
              " ['PBL', 'FEE', 'YYA', 'JOBIN10YN'],\n",
              " ['PSYSTEM', 'FACILITATION', 'FEE', '(L)', 'NYA', 'JOBIN10YN'],\n",
              " ['PSEAL', 'FEE', 'CHARGE', '(L)', 'NYA', 'UNIIN10YN'],\n",
              " ['PBUNKER', 'SURCHARGE', 'NYA', 'UNIIN10YN'],\n",
              " ['PCONGESTION', 'SURCHARGE', '(D)', 'NYA', 'UNIIN10YN'],\n",
              " ['PEQUIPMENT', 'CONTAINER', 'HANDLING', 'NYA', 'UNIIN10YN'],\n",
              " ['PEMERGENCY', 'RISK', 'SURCHARGE', '(D)', 'NYA', 'UNIIN10YN'],\n",
              " ['PISP', 'FACILITY', 'SECURITY', '(D)', 'NYA', 'UNIIN10YN'],\n",
              " ['PLOW', 'SULPHUR-FUEL', 'RECOVERY', 'NYA', 'UNIIN10YN'],\n",
              " ['POPERATIONAL', 'COST', 'RECOVERY', '(D)', 'NYA', 'UNIIN10YN'],\n",
              " ['PTERMINAL', 'HANDLING', 'CHARGE', '(L)', 'NYA', 'UNIIN10YN'],\n",
              " ['PWAR', 'RISK', 'SURCHARGE', '(D)', 'NYA', 'UNIIN10YN']]"
            ]
          },
          "metadata": {},
          "execution_count": 16
        }
      ]
    },
    {
      "cell_type": "code",
      "source": [
        "bookings[5]"
      ],
      "metadata": {
        "id": "U79lqvFLEEyu",
        "colab": {
          "base_uri": "https://localhost:8080/"
        },
        "outputId": "cefb107c-6ad5-465e-aa47-bb2cec5f75cf"
      },
      "execution_count": null,
      "outputs": [
        {
          "output_type": "execute_result",
          "data": {
            "text/plain": [
              "['12BOM100271100        BOM100271100        BOM100271100             SAJEDINMUNFF  YY   PYN20211017                                        F                                                    20210927PI PI P2100242854           KGS48180                \\n',\n",
              " '13   INNSAYEADEINMUNYEADEADEN                                                                       INMUNSAJED     Y1  2    LMS                                                                                                                           \\n',\n",
              " '14   01SHINNSAINMUNTVCFT1003E   202110070925202110140100CALIFORNIA TRADER                                                                                                                                                                                 \\n',\n",
              " '14   02SHINMUNSAJEDTVQH80901W   202110172230202111030100HANSA ROTENBURG                                                                                                                                                                                   \\n',\n",
              " '14   03SHSAJEDYEADETKNZM0164E   202111031400202111051700KOTA NAZIM                                                                                                                                                                                        \\n',\n",
              " '15NHAVA SHEVA                                       NHAVA SHEVA                                       ADEN                                              ADEN                                              HANSA ROTENBURG                                 \\n',\n",
              " '16   IN107087         VARUN POLYMERS                                                        J-75, M.I.D.C.AREA                 JALGAON-425003(MS) INDIA                                                                                     INBOM         \\n',\n",
              " '17   IN804510         MPRS SHIPPING & LOGISTICS PVT LTD  1207 / 1208, 12TH FLOOR, GHANSHAYM                                                                                                                                                 INBOM         \\n',\n",
              " '18   IN804510         MPRS SHIPPING & LOGISTICS PVT LTD                                     1207 / 1208, 12TH FLOOR, GHANSHAYM                                                                                        400067                MUMBA         \\n',\n",
              " '21   YE102937         AWANY AL-NOKHBA FOR IMPORT,                                           NOQM STREET, SANAA, YEMEN, TEL :   +967-1-545901 / 545902, CELL :     +967-771003454,**                                                         YEADE         \\n',\n",
              " '26  1YE102937         AWANY AL-NOKHBA FOR IMPORT,                                           NOQM STREET, SANAA, YEMEN, TEL :   +967-1-545901 / 545902, CELL :     +967-771003454,**                                                         YEADE         \\n',\n",
              " '28   IN804510         MPRS SHIPPING & LOGISTICS PVT LTD  1207 / 1208, 12TH FLOOR, GHANSHAYM                                                                                                                                                 INBOM         \\n',\n",
              " '41   001         Y000003000600048180000           00002010000000201000PLASTICS; OTHER ARTICLES N.E.C. IN CHAPTER 39   392640HCKGMMTQY                                                                                                                     \\n',\n",
              " '44   001AL-QADHI            HOUSE FOR           TRADING             GAML ALBHREEN       1 TO 1760           BALES                                                                                                                                         \\n',\n",
              " '47   0011760 BALES IN TOTAL           3X40HC CONTAINER(S) SAID TO CONTAIN:                        3X40 HC FCL CONTAINER STC: 1760 BALES                       (ONE THOUSAND SEVEN HUNDRED AND SIXTY BALES ONLY)           POLYPROPYLENE  MATS 6 X 7 FT 1  \\n',\n",
              " '47   0019500 PCS.                     POLYPROPYLENE  MAT 6X9 FT  2200 PCS.                        POLYPROPYLENE  MAT 9X9 FT 1800 PCS.                         POLYPROPYLENE  MAT 9X12 FT 1000 PCS.                        POLYPROPYLENE  MAT 6X9 FT 500   \\n',\n",
              " '47   001PCS.                          POLYPROPYLENE  MAT 9X12 FT 250 PCS.                         POLYPROPYLENE  MAT 6X6 FT 21900 PCS.                        S.B.NO:- 4993123   DT:- 30/09/2021                          TOTAL NET WT : 46565.000 KGS    \\n',\n",
              " \"47   001H.S CODE :- 46019900          INV NO.:- VP/2021-22/27  DT:- 30/09/2021                    **EMAIL : AAQ.KADHI@GMAIL.COM SHIPPER'S LOAD STOW COUNT AND SEAL                          FREIGHT PREPAID                                               \\n\",\n",
              " '51   001001PCIU9208124N45G1F   KGMMTQ         000650BALE    016770000003700000000067000         BL                       IN154875                                                                                                                         \\n',\n",
              " '51   001002PCIU9230447N45G1F   KGMMTQ         000380BALE    012795000003700000000067000         BL                       IN154811                                                                                                                         \\n',\n",
              " '51   001003PCIU9534075N45G1F   KGMMTQ         000730BALE    018615000003700000000067000         BL                       IN154844                                                                                                                         \\n',\n",
              " '6100101BOF  INBOM00000300USD0000001975000    0000005925000+IN107087     0000000000000 PBASIC OCEAN FREIGHT           NYA            UNIIN10YN                                                                                                             \\n',\n",
              " '6100102BLF  INBOM00000100INR0000004600000    0000004600000+IN107087     0000000000000 PBL FEE                        YYA            JOBIN10YN                                                                                                             \\n',\n",
              " '6100103SFFL INBOM00000100USD0000000010000    0000000010000+IN107087     0000000000000 PSYSTEM FACILITATION FEE (L)   NYA            JOBIN10YN                                                                                                             \\n',\n",
              " '6100104SFC  INBOM00000300USD0000000009000    0000000027000+IN107087     0000000000000 PSEAL FEE CHARGE (L)           NYA            UNIIN10YN                                                                                                             \\n',\n",
              " '6100105BSH  INBOM00000300USD0000000154000    0000000462000+IN107087     0000000000000 PBUNKER SURCHARGE              NYA            UNIIN10YN                                                                                                             \\n',\n",
              " '6100106CGSD INBOM00000300USD0000000300000    0000000900000+IN107087     0000000000000 PCONGESTION SURCHARGE (D)      NYA            UNIIN10YN                                                                                                             \\n',\n",
              " '6100107ECH  INBOM00000300INR0000001065000    0000003195000+IN107087     0000000000000 PEQUIPMENT  CONTAINER HANDLING NYA            UNIIN10YN                                                                                                             \\n',\n",
              " '6100108ERSD INBOM00000300USD0000000098000    0000000294000+IN107087     0000000000000 PEMERGENCY RISK SURCHARGE (D)  NYA            UNIIN10YN                                                                                                             \\n',\n",
              " '6100109ISPD INBOM00000300USD0000000010000    0000000030000+IN107087     0000000000000 PISP FACILITY SECURITY (D)     NYA            UNIIN10YN                                                                                                             \\n',\n",
              " '6100110LSRL INBOM00000300USD0000000070000    0000000210000+IN107087     0000000000000 PLOW SULPHUR-FUEL RECOVERY     NYA            UNIIN10YN                                                                                                             \\n',\n",
              " '6100111OCRD INBOM00000300USD0000000405000    0000001215000+IN107087     0000000000000 POPERATIONAL COST RECOVERY (D) NYA            UNIIN10YN                                                                                                             \\n',\n",
              " '6100112THCL INBOM00000300INR0000013500000    0000040500000+IN107087     0000000000000 PTERMINAL HANDLING CHARGE (L)  NYA            UNIIN10YN                                                                                                             \\n',\n",
              " '6100113WRSD INBOM00000300USD0000001000000    0000003000000+IN107087     0000000000000 PWAR RISK SURCHARGE (D)        NYA            UNIIN10YN                                                                                                             \\n',\n",
              " '73BVALID TILL 30.09.21                                                                                                                                                                                                                                    \\n',\n",
              " '73CPCIU9208124(460199)                                                                                                                                                                                                                                    \\n',\n",
              " '73CPCIU9230447(460199)                                                                                                                                                                                                                                    \\n',\n",
              " '73CPCIU9534075(460199)                                                                                                                                                                                                                                    \\n',\n",
              " '74   INBOM20211007IN10BOMN0301BOM21A0113INBOMYEADE00001760PACKAGE               20211007                                    BOM21A01134                                                                                                                   \\n']"
            ]
          },
          "metadata": {},
          "execution_count": 11
        }
      ]
    },
    {
      "cell_type": "code",
      "source": [
        "book=bookings[50]\n",
        "getlineitems(book) #all lineitems"
      ],
      "metadata": {
        "colab": {
          "base_uri": "https://localhost:8080/"
        },
        "id": "Pla5-MN9029U",
        "outputId": "155116e1-23c5-4b18-8880-44713605f99a"
      },
      "execution_count": null,
      "outputs": [
        {
          "output_type": "execute_result",
          "data": {
            "text/plain": [
              "['CBASIC',\n",
              " 'PBL',\n",
              " 'PSYSTEM',\n",
              " 'PSEAL',\n",
              " 'PLOCAL',\n",
              " 'CBUNKER',\n",
              " 'CCONGESTION',\n",
              " 'PEQUIPMENT',\n",
              " 'CEMERGENCY',\n",
              " 'CISP',\n",
              " 'CLOW',\n",
              " 'COPERATIONAL',\n",
              " 'PTERMINAL',\n",
              " 'CWAR']"
            ]
          },
          "metadata": {},
          "execution_count": 12
        }
      ]
    },
    {
      "cell_type": "code",
      "source": [
        "for item in bookings[0]:\n",
        "  if item[1]==\"2\":\n",
        "    print(item)"
      ],
      "metadata": {
        "colab": {
          "base_uri": "https://localhost:8080/"
        },
        "id": "OacKhjixXoJp",
        "outputId": "e835fb95-4775-427b-c5a1-a8bf3dbde530"
      },
      "execution_count": null,
      "outputs": [
        {
          "output_type": "stream",
          "name": "stdout",
          "text": [
            "12BOM100264000        BOM100264000        BOM100264000             SAJEDINMUNFF  YY   PYN20211017                                        F                                                    20210915PI PI P2100241714           KGS27079.7              \n",
            "\n"
          ]
        }
      ]
    },
    {
      "cell_type": "code",
      "source": [
        "test=bookings[5][1]\n",
        "test.split()"
      ],
      "metadata": {
        "colab": {
          "base_uri": "https://localhost:8080/"
        },
        "id": "dgtJ0kFfYI2a",
        "outputId": "62b9399f-070b-44d6-dab0-0edda6482052"
      },
      "execution_count": null,
      "outputs": [
        {
          "output_type": "execute_result",
          "data": {
            "text/plain": [
              "['13', 'INNSAYEADEINMUNYEADEADEN', 'INMUNSAJED', 'Y1', '2', 'LMS']"
            ]
          },
          "metadata": {},
          "execution_count": 14
        }
      ]
    },
    {
      "cell_type": "code",
      "source": [
        "test\n",
        "data = test.split() "
      ],
      "metadata": {
        "id": "2z1VlEL6kNU2"
      },
      "execution_count": null,
      "outputs": []
    },
    {
      "cell_type": "code",
      "source": [
        "bookingid=[]\n",
        "for i in range(len(bookings)):\n",
        "   data = bookings[i][0].split()\n",
        "   bookingid.append(data[0])\n",
        "bookingid"
      ],
      "metadata": {
        "colab": {
          "base_uri": "https://localhost:8080/"
        },
        "id": "bILgTM5kkUNi",
        "outputId": "3a02ac5f-b037-4592-9deb-5c3a47c36837"
      },
      "execution_count": null,
      "outputs": [
        {
          "output_type": "execute_result",
          "data": {
            "text/plain": [
              "['12BOM100264000',\n",
              " '12BOM100266200',\n",
              " '12BOM100267400',\n",
              " '12BOM100267500',\n",
              " '12BOM100270000',\n",
              " '12BOM100271100',\n",
              " '12BOM100272500',\n",
              " '12BOM100277500',\n",
              " '12BOM100278400',\n",
              " '12BOM100281900',\n",
              " '12BOM100282100',\n",
              " '12BOM100284700',\n",
              " '12BOM100285800',\n",
              " '12BOM100285801',\n",
              " '12BOM100287600',\n",
              " '12BOM100287800',\n",
              " '12BOM100288500',\n",
              " '12BOM100288600',\n",
              " '12DEL100046500',\n",
              " '12DEL100046700',\n",
              " '12DEL100047200',\n",
              " '12DEL100048000',\n",
              " '12LUH100021800',\n",
              " '12LUH100022500',\n",
              " '12MUN100254300',\n",
              " '12MUN100254400',\n",
              " '12MUN100254700',\n",
              " '12MUN100255000',\n",
              " '12MUN100255100',\n",
              " '12MUN100255600',\n",
              " '12MUN100255700',\n",
              " '12MUN100255800',\n",
              " '12MUN100256400',\n",
              " '12MUN100256900',\n",
              " '12MUN100257100',\n",
              " '12MUN100260400',\n",
              " '12MUN100260800',\n",
              " '12MUN100261100',\n",
              " '12MUN100261300',\n",
              " '12MUN100261400',\n",
              " '12MUN100261401',\n",
              " '12MUN100261500',\n",
              " '12MUN100261700',\n",
              " '12MUN100261800',\n",
              " '12MUN100261900',\n",
              " '12MUN100261901',\n",
              " '12MUN100261902',\n",
              " '12MUN100262100',\n",
              " '12MUN100262200',\n",
              " '12MUN100262201',\n",
              " '12MUN100262300',\n",
              " '12MUN100262600',\n",
              " '12MUN100262700',\n",
              " '12MUN100263400',\n",
              " '12MUN100264000']"
            ]
          },
          "metadata": {},
          "execution_count": 16
        }
      ]
    },
    {
      "cell_type": "code",
      "source": [
        "bookings"
      ],
      "metadata": {
        "id": "oR-0ZbuZuk3y"
      },
      "execution_count": null,
      "outputs": []
    },
    {
      "cell_type": "code",
      "source": [
        "bookings[2][1].split()[2]"
      ],
      "metadata": {
        "id": "L-BhD60ASXSh",
        "colab": {
          "base_uri": "https://localhost:8080/",
          "height": 35
        },
        "outputId": "59e33a98-2028-4893-b9b5-fbf1d0ec048c"
      },
      "execution_count": null,
      "outputs": [
        {
          "output_type": "execute_result",
          "data": {
            "application/vnd.google.colaboratory.intrinsic+json": {
              "type": "string"
            },
            "text/plain": [
              "'INMUNSAJED'"
            ]
          },
          "metadata": {},
          "execution_count": 25
        }
      ]
    },
    {
      "cell_type": "code",
      "source": [
        ""
      ],
      "metadata": {
        "id": "tI-LBHu7vxKz"
      },
      "execution_count": null,
      "outputs": []
    },
    {
      "cell_type": "code",
      "source": [
        ""
      ],
      "metadata": {
        "id": "VkFITmcsR_sb"
      },
      "execution_count": null,
      "outputs": []
    },
    {
      "cell_type": "code",
      "source": [
        ""
      ],
      "metadata": {
        "id": "27hYvVvKAO6f"
      },
      "execution_count": null,
      "outputs": []
    },
    {
      "cell_type": "markdown",
      "source": [
        "## Experimenting with json\n"
      ],
      "metadata": {
        "id": "8qj6VrKAAOGr"
      }
    },
    {
      "cell_type": "code",
      "source": [
        "{\n",
        "    \"glossary\": {\n",
        "        \"title\": \"example glossary\",\n",
        "\t\t\"GlossDiv\": {\n",
        "            \"title\": \"S\",\n",
        "\t\t\t\"GlossList\": {\n",
        "                \"GlossEntry\": {\n",
        "                    \"ID\": \"SGML\",\n",
        "\t\t\t\t\t\"SortAs\": \"SGML\",\n",
        "\t\t\t\t\t\"GlossTerm\": \"Standard Generalized Markup Language\",\n",
        "\t\t\t\t\t\"Acronym\": \"SGML\",\n",
        "\t\t\t\t\t\"Abbrev\": \"ISO 8879:1986\",\n",
        "\t\t\t\t\t\"GlossDef\": {\n",
        "                        \"para\": \"A meta-markup language, used to create markup languages such as DocBook.\",\n",
        "\t\t\t\t\t\t\"GlossSeeAlso\": [\"GML\", \"XML\"]\n",
        "                    },\n",
        "\t\t\t\t\t\"GlossSee\": \"markup\"\n",
        "                }\n",
        "            }\n",
        "        }\n",
        "\n",
        "        \n",
        "    }\n",
        "}"
      ],
      "metadata": {
        "id": "7EPwSkopATfJ"
      },
      "execution_count": null,
      "outputs": []
    },
    {
      "cell_type": "code",
      "source": [
        "{\n",
        "    \"Bookings\":{\n",
        "        \"total\" : \n",
        "    }\n",
        "}"
      ],
      "metadata": {
        "id": "26ETVgxlCKf7"
      },
      "execution_count": null,
      "outputs": []
    }
  ]
}