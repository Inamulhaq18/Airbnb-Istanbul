{
  "nbformat": 4,
  "nbformat_minor": 0,
  "metadata": {
    "colab": {
      "name": "Airbnbistanbul Udacity.ipynb",
      "provenance": [],
      "collapsed_sections": [],
      "authorship_tag": "ABX9TyOkUxV8MgVG+tw0LpnSh6l9",
      "include_colab_link": true
    },
    "kernelspec": {
      "name": "python3",
      "display_name": "Python 3"
    },
    "language_info": {
      "name": "python"
    }
  },
  "cells": [
    {
      "cell_type": "markdown",
      "metadata": {
        "id": "view-in-github",
        "colab_type": "text"
      },
      "source": [
        "<a href=\"https://colab.research.google.com/github/Inamulhaq18/Airbnb-Istanbul/blob/main/Airbnbistanbul_Udacity.ipynb\" target=\"_parent\"><img src=\"https://colab.research.google.com/assets/colab-badge.svg\" alt=\"Open In Colab\"/></a>"
      ]
    },
    {
      "cell_type": "markdown",
      "metadata": {
        "id": "NYTEQ_v_75_u"
      },
      "source": [
        "# Exploring Airbnb Istanbul Dataset, to answer invertors business questions \n",
        "1.How are the listing spread across different neighborhood ?\n",
        "\n",
        "2.How do the pricing vary across neighborhoods?\n",
        "\n",
        "3.Does filling the property  with lots of amenities help in increasing the   price of the property ?\n",
        "\n",
        "4.What are the top 25 type of property available in Istanbul ?"
      ]
    },
    {
      "cell_type": "markdown",
      "metadata": {
        "id": "drX0XS7G8uhX"
      },
      "source": [
        "Importing data stored in drive"
      ]
    },
    {
      "cell_type": "code",
      "metadata": {
        "id": "TaM1eFJca7Ue",
        "colab": {
          "base_uri": "https://localhost:8080/"
        },
        "outputId": "689f1156-c525-4a1a-9060-8af483e26ec9"
      },
      "source": [
        "from google.colab import drive\n",
        "\n",
        "drive.mount('/content/gdrive')"
      ],
      "execution_count": null,
      "outputs": [
        {
          "output_type": "stream",
          "name": "stdout",
          "text": [
            "Mounted at /content/gdrive\n"
          ]
        }
      ]
    },
    {
      "cell_type": "code",
      "metadata": {
        "colab": {
          "base_uri": "https://localhost:8080/"
        },
        "id": "XT6TeGN9dwX4",
        "outputId": "fd7f77e4-40f0-475f-a259-827abeaedabf"
      },
      "source": [
        "!ls gdrive/MyDrive/Airbnbistanbul/listings.csv"
      ],
      "execution_count": null,
      "outputs": [
        {
          "output_type": "stream",
          "name": "stdout",
          "text": [
            "gdrive/MyDrive/Airbnbistanbul/listings.csv\n"
          ]
        }
      ]
    },
    {
      "cell_type": "markdown",
      "metadata": {
        "id": "k9xEYtyWrBvA"
      },
      "source": [
        "\n",
        "### Importing Libraries and data"
      ]
    },
    {
      "cell_type": "code",
      "metadata": {
        "id": "eElBsTiIexqj"
      },
      "source": [
        "import pandas as pd\n",
        "import numpy as np\n",
        "import matplotlib.pyplot as plt\n",
        "import matplotlib.image as mpimg\n",
        "%matplotlib inline\n",
        "import seaborn as sns\n"
      ],
      "execution_count": null,
      "outputs": []
    },
    {
      "cell_type": "code",
      "metadata": {
        "id": "9FwxrHOyfGnB"
      },
      "source": [
        "dflisting=pd.read_csv('gdrive/MyDrive/Airbnbistanbul/listings.csv')"
      ],
      "execution_count": null,
      "outputs": []
    },
    {
      "cell_type": "markdown",
      "metadata": {
        "id": "s0xRQ3bE4SIl"
      },
      "source": [
        "# **Exploratory Data Analysis**"
      ]
    },
    {
      "cell_type": "code",
      "metadata": {
        "colab": {
          "base_uri": "https://localhost:8080/"
        },
        "id": "HvjsR2jvobkq",
        "outputId": "df2cc042-3e38-4a1e-b630-eccb5e70b987"
      },
      "source": [
        "dflisting.shape"
      ],
      "execution_count": null,
      "outputs": [
        {
          "output_type": "execute_result",
          "data": {
            "text/plain": [
              "(24235, 74)"
            ]
          },
          "metadata": {},
          "execution_count": 33
        }
      ]
    },
    {
      "cell_type": "code",
      "metadata": {
        "colab": {
          "base_uri": "https://localhost:8080/"
        },
        "id": "mKIK_3he5Vf0",
        "outputId": "361815a1-e1ec-44b9-995f-65534c4822fe"
      },
      "source": [
        "dflisting.columns"
      ],
      "execution_count": null,
      "outputs": [
        {
          "output_type": "execute_result",
          "data": {
            "text/plain": [
              "Index(['id', 'listing_url', 'scrape_id', 'last_scraped', 'name', 'description',\n",
              "       'neighborhood_overview', 'picture_url', 'host_id', 'host_url',\n",
              "       'host_name', 'host_since', 'host_location', 'host_about',\n",
              "       'host_response_time', 'host_response_rate', 'host_acceptance_rate',\n",
              "       'host_is_superhost', 'host_thumbnail_url', 'host_picture_url',\n",
              "       'host_neighbourhood', 'host_listings_count',\n",
              "       'host_total_listings_count', 'host_verifications',\n",
              "       'host_has_profile_pic', 'host_identity_verified', 'neighbourhood',\n",
              "       'neighbourhood_cleansed', 'neighbourhood_group_cleansed', 'latitude',\n",
              "       'longitude', 'property_type', 'room_type', 'accommodates', 'bathrooms',\n",
              "       'bathrooms_text', 'bedrooms', 'beds', 'amenities', 'price',\n",
              "       'minimum_nights', 'maximum_nights', 'minimum_minimum_nights',\n",
              "       'maximum_minimum_nights', 'minimum_maximum_nights',\n",
              "       'maximum_maximum_nights', 'minimum_nights_avg_ntm',\n",
              "       'maximum_nights_avg_ntm', 'calendar_updated', 'has_availability',\n",
              "       'availability_30', 'availability_60', 'availability_90',\n",
              "       'availability_365', 'calendar_last_scraped', 'number_of_reviews',\n",
              "       'number_of_reviews_ltm', 'number_of_reviews_l30d', 'first_review',\n",
              "       'last_review', 'review_scores_rating', 'review_scores_accuracy',\n",
              "       'review_scores_cleanliness', 'review_scores_checkin',\n",
              "       'review_scores_communication', 'review_scores_location',\n",
              "       'review_scores_value', 'license', 'instant_bookable',\n",
              "       'calculated_host_listings_count',\n",
              "       'calculated_host_listings_count_entire_homes',\n",
              "       'calculated_host_listings_count_private_rooms',\n",
              "       'calculated_host_listings_count_shared_rooms', 'reviews_per_month'],\n",
              "      dtype='object')"
            ]
          },
          "metadata": {},
          "execution_count": 7
        }
      ]
    },
    {
      "cell_type": "markdown",
      "metadata": {
        "id": "UFsJr3HS5-Qp"
      },
      "source": [
        "'neighbourhood','neighbourhood_cleansed', 'neighbourhood_group_cleansed' Are columns that desribe the listing's nieghbourhood"
      ]
    },
    {
      "cell_type": "code",
      "metadata": {
        "colab": {
          "base_uri": "https://localhost:8080/",
          "height": 417
        },
        "id": "6hxjM58x9xbX",
        "outputId": "981a835e-33e8-40d2-80ae-363d96c98554"
      },
      "source": [
        "dflisting[['id','name']]"
      ],
      "execution_count": null,
      "outputs": [
        {
          "output_type": "execute_result",
          "data": {
            "text/html": [
              "<div>\n",
              "<style scoped>\n",
              "    .dataframe tbody tr th:only-of-type {\n",
              "        vertical-align: middle;\n",
              "    }\n",
              "\n",
              "    .dataframe tbody tr th {\n",
              "        vertical-align: top;\n",
              "    }\n",
              "\n",
              "    .dataframe thead th {\n",
              "        text-align: right;\n",
              "    }\n",
              "</style>\n",
              "<table border=\"1\" class=\"dataframe\">\n",
              "  <thead>\n",
              "    <tr style=\"text-align: right;\">\n",
              "      <th></th>\n",
              "      <th>id</th>\n",
              "      <th>name</th>\n",
              "    </tr>\n",
              "  </thead>\n",
              "  <tbody>\n",
              "    <tr>\n",
              "      <th>0</th>\n",
              "      <td>20815</td>\n",
              "      <td>The Bosphorus from The Comfy Hill</td>\n",
              "    </tr>\n",
              "    <tr>\n",
              "      <th>1</th>\n",
              "      <td>27831</td>\n",
              "      <td>Large, clean, spacious apartment</td>\n",
              "    </tr>\n",
              "    <tr>\n",
              "      <th>2</th>\n",
              "      <td>28277</td>\n",
              "      <td>Duplex Apartment 11 with Terrace</td>\n",
              "    </tr>\n",
              "    <tr>\n",
              "      <th>3</th>\n",
              "      <td>28318</td>\n",
              "      <td>Cosy home overlooking Bosphorus</td>\n",
              "    </tr>\n",
              "    <tr>\n",
              "      <th>4</th>\n",
              "      <td>29241</td>\n",
              "      <td>↪ Istanbul, Your second house</td>\n",
              "    </tr>\n",
              "    <tr>\n",
              "      <th>...</th>\n",
              "      <td>...</td>\n",
              "      <td>...</td>\n",
              "    </tr>\n",
              "    <tr>\n",
              "      <th>24230</th>\n",
              "      <td>51151939</td>\n",
              "      <td>Frame King Room with Balcony</td>\n",
              "    </tr>\n",
              "    <tr>\n",
              "      <th>24231</th>\n",
              "      <td>51152217</td>\n",
              "      <td>Frame Apart</td>\n",
              "    </tr>\n",
              "    <tr>\n",
              "      <th>24232</th>\n",
              "      <td>51156519</td>\n",
              "      <td>Bosphorus View Garden Terrace in Perfect Area</td>\n",
              "    </tr>\n",
              "    <tr>\n",
              "      <th>24233</th>\n",
              "      <td>51158888</td>\n",
              "      <td>no 1</td>\n",
              "    </tr>\n",
              "    <tr>\n",
              "      <th>24234</th>\n",
              "      <td>51167083</td>\n",
              "      <td>Spacious Studio Flat Near Taksim Square</td>\n",
              "    </tr>\n",
              "  </tbody>\n",
              "</table>\n",
              "<p>24235 rows × 2 columns</p>\n",
              "</div>"
            ],
            "text/plain": [
              "             id                                           name\n",
              "0         20815              The Bosphorus from The Comfy Hill\n",
              "1         27831               Large, clean, spacious apartment\n",
              "2         28277               Duplex Apartment 11 with Terrace\n",
              "3         28318                Cosy home overlooking Bosphorus\n",
              "4         29241                  ↪ Istanbul, Your second house\n",
              "...         ...                                            ...\n",
              "24230  51151939                   Frame King Room with Balcony\n",
              "24231  51152217                                    Frame Apart\n",
              "24232  51156519  Bosphorus View Garden Terrace in Perfect Area\n",
              "24233  51158888                                           no 1\n",
              "24234  51167083        Spacious Studio Flat Near Taksim Square\n",
              "\n",
              "[24235 rows x 2 columns]"
            ]
          },
          "metadata": {},
          "execution_count": 12
        }
      ]
    },
    {
      "cell_type": "markdown",
      "metadata": {
        "id": "pHGOZlcf4pGo"
      },
      "source": [
        "### Making a filtered verision of the dataset for better and ease in handling dataset "
      ]
    },
    {
      "cell_type": "code",
      "metadata": {
        "id": "rApbmlhg8vDO"
      },
      "source": [
        "listing_filterdf = dflisting[['id','name','neighbourhood_cleansed','latitude','longitude','property_type', 'room_type', 'amenities', 'price']]"
      ],
      "execution_count": null,
      "outputs": []
    },
    {
      "cell_type": "code",
      "metadata": {
        "colab": {
          "base_uri": "https://localhost:8080/",
          "height": 585
        },
        "id": "0vVW3etV6ItN",
        "outputId": "95a44134-b491-4e2c-d687-590ad9b07afe"
      },
      "source": [
        "listing_filterdf"
      ],
      "execution_count": null,
      "outputs": [
        {
          "output_type": "execute_result",
          "data": {
            "text/html": [
              "<div>\n",
              "<style scoped>\n",
              "    .dataframe tbody tr th:only-of-type {\n",
              "        vertical-align: middle;\n",
              "    }\n",
              "\n",
              "    .dataframe tbody tr th {\n",
              "        vertical-align: top;\n",
              "    }\n",
              "\n",
              "    .dataframe thead th {\n",
              "        text-align: right;\n",
              "    }\n",
              "</style>\n",
              "<table border=\"1\" class=\"dataframe\">\n",
              "  <thead>\n",
              "    <tr style=\"text-align: right;\">\n",
              "      <th></th>\n",
              "      <th>id</th>\n",
              "      <th>name</th>\n",
              "      <th>neighbourhood_cleansed</th>\n",
              "      <th>latitude</th>\n",
              "      <th>longitude</th>\n",
              "      <th>property_type</th>\n",
              "      <th>room_type</th>\n",
              "      <th>amenities</th>\n",
              "      <th>price</th>\n",
              "    </tr>\n",
              "  </thead>\n",
              "  <tbody>\n",
              "    <tr>\n",
              "      <th>0</th>\n",
              "      <td>20815</td>\n",
              "      <td>The Bosphorus from The Comfy Hill</td>\n",
              "      <td>Besiktas</td>\n",
              "      <td>41.069760</td>\n",
              "      <td>29.043790</td>\n",
              "      <td>Entire rental unit</td>\n",
              "      <td>Entire home/apt</td>\n",
              "      <td>[\"Host greets you\", \"TV with standard cable\", ...</td>\n",
              "      <td>$1,028.00</td>\n",
              "    </tr>\n",
              "    <tr>\n",
              "      <th>1</th>\n",
              "      <td>27831</td>\n",
              "      <td>Large, clean, spacious apartment</td>\n",
              "      <td>Sisli</td>\n",
              "      <td>41.067770</td>\n",
              "      <td>29.003370</td>\n",
              "      <td>Entire rental unit</td>\n",
              "      <td>Entire home/apt</td>\n",
              "      <td>[\"Fire extinguisher\", \"TV with standard cable\"...</td>\n",
              "      <td>$768.00</td>\n",
              "    </tr>\n",
              "    <tr>\n",
              "      <th>2</th>\n",
              "      <td>28277</td>\n",
              "      <td>Duplex Apartment 11 with Terrace</td>\n",
              "      <td>Sisli</td>\n",
              "      <td>41.046720</td>\n",
              "      <td>28.984020</td>\n",
              "      <td>Entire serviced apartment</td>\n",
              "      <td>Entire home/apt</td>\n",
              "      <td>[\"Hot water\", \"Fire extinguisher\", \"TV\", \"Bath...</td>\n",
              "      <td>$596.00</td>\n",
              "    </tr>\n",
              "    <tr>\n",
              "      <th>3</th>\n",
              "      <td>28318</td>\n",
              "      <td>Cosy home overlooking Bosphorus</td>\n",
              "      <td>Sariyer</td>\n",
              "      <td>41.091040</td>\n",
              "      <td>29.055800</td>\n",
              "      <td>Entire rental unit</td>\n",
              "      <td>Entire home/apt</td>\n",
              "      <td>[\"Fire extinguisher\", \"TV with standard cable\"...</td>\n",
              "      <td>$1,072.00</td>\n",
              "    </tr>\n",
              "    <tr>\n",
              "      <th>4</th>\n",
              "      <td>29241</td>\n",
              "      <td>↪ Istanbul, Your second house</td>\n",
              "      <td>Beyoglu</td>\n",
              "      <td>41.048030</td>\n",
              "      <td>28.952270</td>\n",
              "      <td>Private room in rental unit</td>\n",
              "      <td>Private room</td>\n",
              "      <td>[\"Breakfast\", \"TV\", \"Washer\", \"Wifi\", \"Shampoo...</td>\n",
              "      <td>$429.00</td>\n",
              "    </tr>\n",
              "    <tr>\n",
              "      <th>...</th>\n",
              "      <td>...</td>\n",
              "      <td>...</td>\n",
              "      <td>...</td>\n",
              "      <td>...</td>\n",
              "      <td>...</td>\n",
              "      <td>...</td>\n",
              "      <td>...</td>\n",
              "      <td>...</td>\n",
              "      <td>...</td>\n",
              "    </tr>\n",
              "    <tr>\n",
              "      <th>24230</th>\n",
              "      <td>51151939</td>\n",
              "      <td>Frame King Room with Balcony</td>\n",
              "      <td>Beyoglu</td>\n",
              "      <td>41.028097</td>\n",
              "      <td>28.973408</td>\n",
              "      <td>Entire rental unit</td>\n",
              "      <td>Entire home/apt</td>\n",
              "      <td>[\"TV\", \"Washer\", \"Wifi\", \"Heating\", \"Air condi...</td>\n",
              "      <td>$218.00</td>\n",
              "    </tr>\n",
              "    <tr>\n",
              "      <th>24231</th>\n",
              "      <td>51152217</td>\n",
              "      <td>Frame Apart</td>\n",
              "      <td>Beyoglu</td>\n",
              "      <td>41.028134</td>\n",
              "      <td>28.973256</td>\n",
              "      <td>Entire apartment</td>\n",
              "      <td>Entire home/apt</td>\n",
              "      <td>[\"Hot water\", \"TV\", \"Washer\", \"Wifi\", \"Heating...</td>\n",
              "      <td>$197.00</td>\n",
              "    </tr>\n",
              "    <tr>\n",
              "      <th>24232</th>\n",
              "      <td>51156519</td>\n",
              "      <td>Bosphorus View Garden Terrace in Perfect Area</td>\n",
              "      <td>Besiktas</td>\n",
              "      <td>41.041832</td>\n",
              "      <td>29.008368</td>\n",
              "      <td>Entire rental unit</td>\n",
              "      <td>Entire home/apt</td>\n",
              "      <td>[\"Heating\", \"Shampoo\", \"Window AC unit\", \"Pack...</td>\n",
              "      <td>$545.00</td>\n",
              "    </tr>\n",
              "    <tr>\n",
              "      <th>24233</th>\n",
              "      <td>51158888</td>\n",
              "      <td>no 1</td>\n",
              "      <td>Beyoglu</td>\n",
              "      <td>41.038915</td>\n",
              "      <td>28.981979</td>\n",
              "      <td>Room in hotel</td>\n",
              "      <td>Private room</td>\n",
              "      <td>[\"Hot water\", \"TV\", \"Lock on bedroom door\", \"B...</td>\n",
              "      <td>$455.00</td>\n",
              "    </tr>\n",
              "    <tr>\n",
              "      <th>24234</th>\n",
              "      <td>51167083</td>\n",
              "      <td>Spacious Studio Flat Near Taksim Square</td>\n",
              "      <td>Beyoglu</td>\n",
              "      <td>41.038322</td>\n",
              "      <td>28.980588</td>\n",
              "      <td>Entire rental unit</td>\n",
              "      <td>Entire home/apt</td>\n",
              "      <td>[\"Clothing storage: closet\", \"Mini fridge\", \"S...</td>\n",
              "      <td>$1,010.00</td>\n",
              "    </tr>\n",
              "  </tbody>\n",
              "</table>\n",
              "<p>24235 rows × 9 columns</p>\n",
              "</div>"
            ],
            "text/plain": [
              "             id  ...      price\n",
              "0         20815  ...  $1,028.00\n",
              "1         27831  ...    $768.00\n",
              "2         28277  ...    $596.00\n",
              "3         28318  ...  $1,072.00\n",
              "4         29241  ...    $429.00\n",
              "...         ...  ...        ...\n",
              "24230  51151939  ...    $218.00\n",
              "24231  51152217  ...    $197.00\n",
              "24232  51156519  ...    $545.00\n",
              "24233  51158888  ...    $455.00\n",
              "24234  51167083  ...  $1,010.00\n",
              "\n",
              "[24235 rows x 9 columns]"
            ]
          },
          "metadata": {},
          "execution_count": 14
        }
      ]
    },
    {
      "cell_type": "markdown",
      "metadata": {
        "id": "MkMtnUJl43SA"
      },
      "source": [
        "# 1. How are the listing spread across different neighborhood ?"
      ]
    },
    {
      "cell_type": "markdown",
      "metadata": {
        "id": "gBOBkaqP5YRI"
      },
      "source": [
        "checking for the right column to work-on to answer the question."
      ]
    },
    {
      "cell_type": "markdown",
      "metadata": {
        "id": "eMe2LOfS5X5l"
      },
      "source": [
        "Checking for null values"
      ]
    },
    {
      "cell_type": "code",
      "metadata": {
        "colab": {
          "base_uri": "https://localhost:8080/"
        },
        "id": "yPSlEFQs7iKW",
        "outputId": "e84b1762-b727-42c5-8a6e-f28aa1b6d1ae"
      },
      "source": [
        "np.sum(dflisting.neighbourhood_group_cleansed.isnull())"
      ],
      "execution_count": null,
      "outputs": [
        {
          "output_type": "execute_result",
          "data": {
            "text/plain": [
              "24235"
            ]
          },
          "metadata": {},
          "execution_count": 22
        }
      ]
    },
    {
      "cell_type": "markdown",
      "metadata": {
        "id": "uPzNYFKj7yia"
      },
      "source": [
        "Neighbourhood_cleansed looks like the only usefull columns for learning abour neighbourhood "
      ]
    },
    {
      "cell_type": "code",
      "metadata": {
        "colab": {
          "base_uri": "https://localhost:8080/"
        },
        "id": "Cij3BnnF7xhE",
        "outputId": "c9eb5e73-8551-4ab5-af35-a84fe10dec00"
      },
      "source": [
        "np.sum(dflisting.neighbourhood_cleansed.isnull)"
      ],
      "execution_count": null,
      "outputs": [
        {
          "output_type": "execute_result",
          "data": {
            "text/plain": [
              "<bound method Series.isnull of 0        Besiktas\n",
              "1           Sisli\n",
              "2           Sisli\n",
              "3         Sariyer\n",
              "4         Beyoglu\n",
              "           ...   \n",
              "24230     Beyoglu\n",
              "24231     Beyoglu\n",
              "24232    Besiktas\n",
              "24233     Beyoglu\n",
              "24234     Beyoglu\n",
              "Name: neighbourhood_cleansed, Length: 24235, dtype: object>"
            ]
          },
          "metadata": {},
          "execution_count": 23
        }
      ]
    },
    {
      "cell_type": "code",
      "metadata": {
        "colab": {
          "base_uri": "https://localhost:8080/"
        },
        "id": "6PWe8HMq9hRY",
        "outputId": "68136743-39d7-4e01-bcd7-07f6fed6c80f"
      },
      "source": [
        "dflisting.neighbourhood_cleansed.unique()"
      ],
      "execution_count": null,
      "outputs": [
        {
          "output_type": "execute_result",
          "data": {
            "text/plain": [
              "array(['Besiktas', 'Sisli', 'Sariyer', 'Beyoglu', 'Uskudar', 'Fatih',\n",
              "       'Kagithane', 'Kadikoy', 'Maltepe', 'Esenyurt', 'Basaksehir',\n",
              "       'Bahcelievler', 'Adalar', 'Bagcilar', 'Eyup', 'Sile', 'Beykoz',\n",
              "       'Cekmekoy', 'Kucukcekmece', 'Sancaktepe', 'Tuzla', 'Beylikduzu',\n",
              "       'Atasehir', 'Kartal', 'Silivri', 'Bakirkoy', 'Gaziosmanpasa',\n",
              "       'Zeytinburnu', 'Pendik', 'Umraniye', 'Catalca', 'Avcilar',\n",
              "       'Gungoren', 'Buyukcekmece', 'Bayrampasa', 'Sultanbeyli', 'Esenler',\n",
              "       'Sultangazi', 'Arnavutkoy'], dtype=object)"
            ]
          },
          "metadata": {},
          "execution_count": 8
        }
      ]
    },
    {
      "cell_type": "code",
      "metadata": {
        "colab": {
          "base_uri": "https://localhost:8080/"
        },
        "id": "RHSjLJ6b8Tzw",
        "outputId": "a0a6231d-4f74-4612-fbbd-fefe118139fc"
      },
      "source": [
        "len(dflisting.neighbourhood_cleansed.unique())"
      ],
      "execution_count": null,
      "outputs": [
        {
          "output_type": "execute_result",
          "data": {
            "text/plain": [
              "39"
            ]
          },
          "metadata": {},
          "execution_count": 9
        }
      ]
    },
    {
      "cell_type": "markdown",
      "metadata": {
        "id": "AJvH5tXl9lgO"
      },
      "source": [
        "So, There are 39 neighbourhood in Istanbul"
      ]
    },
    {
      "cell_type": "markdown",
      "metadata": {
        "id": "YyheKj-B-Ty4"
      },
      "source": [
        "Comming to the question, now I need to count the number of IDs for each unique neighbourhood."
      ]
    },
    {
      "cell_type": "code",
      "metadata": {
        "id": "yA-m1CK99y-f"
      },
      "source": [
        "listing_by_neigh=dflisting.groupby('neighbourhood_cleansed')['id'].count()\n",
        "listing_by_neigh=listing_by_neigh.sort_values(ascending=False)"
      ],
      "execution_count": null,
      "outputs": []
    },
    {
      "cell_type": "code",
      "metadata": {
        "colab": {
          "base_uri": "https://localhost:8080/"
        },
        "id": "pxY2S1Slzu7Q",
        "outputId": "fe2b305b-4122-4648-c7b4-cebd644c9c95"
      },
      "source": [
        "listing_by_neigh"
      ],
      "execution_count": null,
      "outputs": [
        {
          "output_type": "execute_result",
          "data": {
            "text/plain": [
              "neighbourhood_cleansed\n",
              "Beyoglu          6682\n",
              "Fatih            3443\n",
              "Sisli            3402\n",
              "Kadikoy          2190\n",
              "Besiktas         1615\n",
              "Uskudar           706\n",
              "Esenyurt          686\n",
              "Kagithane         592\n",
              "Atasehir          391\n",
              "Maltepe           346\n",
              "Bakirkoy          318\n",
              "Sariyer           316\n",
              "Bagcilar          253\n",
              "Bahcelievler      249\n",
              "Basaksehir        246\n",
              "Umraniye          244\n",
              "Avcilar           231\n",
              "Eyup              225\n",
              "Adalar            223\n",
              "Pendik            202\n",
              "Kartal            202\n",
              "Sile              196\n",
              "Kucukcekmece      196\n",
              "Beylikduzu        118\n",
              "Buyukcekmece      111\n",
              "Zeytinburnu       111\n",
              "Beykoz            110\n",
              "Tuzla             100\n",
              "Arnavutkoy         99\n",
              "Gaziosmanpasa      75\n",
              "Gungoren           63\n",
              "Cekmekoy           56\n",
              "Sancaktepe         53\n",
              "Esenler            47\n",
              "Silivri            43\n",
              "Bayrampasa         30\n",
              "Catalca            25\n",
              "Sultangazi         21\n",
              "Sultanbeyli        19\n",
              "Name: id, dtype: int64"
            ]
          },
          "metadata": {},
          "execution_count": 11
        }
      ]
    },
    {
      "cell_type": "code",
      "metadata": {
        "colab": {
          "base_uri": "https://localhost:8080/",
          "height": 600
        },
        "id": "piP6kkrPGDC_",
        "outputId": "0a30c9e3-a810-4637-befc-e073611ac141"
      },
      "source": [
        "sns.set(rc = {'figure.figsize':(15,8)})\n",
        "listing_by_neigh.plot(kind='bar')"
      ],
      "execution_count": null,
      "outputs": [
        {
          "output_type": "execute_result",
          "data": {
            "text/plain": [
              "<matplotlib.axes._subplots.AxesSubplot at 0x7fee72594c90>"
            ]
          },
          "metadata": {},
          "execution_count": 57
        },
        {
          "output_type": "display_data",
          "data": {
            "image/png": "[encoded data removed]",
            "text/plain": [
              "<Figure size 1080x576 with 1 Axes>"
            ]
          },
          "metadata": {}
        }
      ]
    },
    {
      "cell_type": "markdown",
      "metadata": {
        "id": "EBRHMT9D6QHt"
      },
      "source": [
        "# 2. How do the pricing vary across neighborhoods?"
      ]
    },
    {
      "cell_type": "code",
      "metadata": {
        "colab": {
          "base_uri": "https://localhost:8080/"
        },
        "id": "4LS7fwSVDej4",
        "outputId": "6899c03f-d884-4d1e-dfb8-d7ec442249c5"
      },
      "source": [
        "len(dflisting.id.unique())"
      ],
      "execution_count": null,
      "outputs": [
        {
          "output_type": "execute_result",
          "data": {
            "text/plain": [
              "24235"
            ]
          },
          "metadata": {},
          "execution_count": 22
        }
      ]
    },
    {
      "cell_type": "code",
      "metadata": {
        "colab": {
          "base_uri": "https://localhost:8080/"
        },
        "id": "hev65-nQwykF",
        "outputId": "48af0df6-0d21-4821-d5a5-02fdd417eb4d"
      },
      "source": [
        "dflisting.price"
      ],
      "execution_count": null,
      "outputs": [
        {
          "output_type": "execute_result",
          "data": {
            "text/plain": [
              "0        $1,028.00\n",
              "1          $768.00\n",
              "2          $596.00\n",
              "3        $1,072.00\n",
              "4          $429.00\n",
              "           ...    \n",
              "24230      $218.00\n",
              "24231      $197.00\n",
              "24232      $545.00\n",
              "24233      $455.00\n",
              "24234    $1,010.00\n",
              "Name: price, Length: 24235, dtype: object"
            ]
          },
          "metadata": {},
          "execution_count": 32
        }
      ]
    },
    {
      "cell_type": "markdown",
      "metadata": {
        "id": "N4IW_YQf6n3V"
      },
      "source": [
        "Removing the \"$\" character from the column and also changing it to float type."
      ]
    },
    {
      "cell_type": "code",
      "metadata": {
        "colab": {
          "base_uri": "https://localhost:8080/"
        },
        "id": "RGXQImbOAX0K",
        "outputId": "930c4d89-7796-463e-d404-d96fe23ed54b"
      },
      "source": [
        "listing_filterdf.price=listing_filterdf[\"price\"].str.replace('[$, ]', '').astype(float)\n",
        "once"
      ],
      "execution_count": null,
      "outputs": [
        {
          "output_type": "stream",
          "name": "stderr",
          "text": [
            "/usr/local/lib/python3.7/dist-packages/pandas/core/generic.py:5170: SettingWithCopyWarning: \n",
            "A value is trying to be set on a copy of a slice from a DataFrame.\n",
            "Try using .loc[row_indexer,col_indexer] = value instead\n",
            "\n",
            "See the caveats in the documentation: https://pandas.pydata.org/pandas-docs/stable/user_guide/indexing.html#returning-a-view-versus-a-copy\n",
            "  self[name] = value\n"
          ]
        }
      ]
    },
    {
      "cell_type": "code",
      "metadata": {
        "id": "_PytJ_-Q_QXM"
      },
      "source": [
        "avg_price_neigh=listing_filterdf.groupby('neighbourhood_cleansed')['price'].mean()\n",
        "avg_price_neigh=avg_price_neigh.sort_values(ascending=False)"
      ],
      "execution_count": null,
      "outputs": []
    },
    {
      "cell_type": "code",
      "metadata": {
        "colab": {
          "base_uri": "https://localhost:8080/",
          "height": 597
        },
        "id": "7Jd5bmtB8cVC",
        "outputId": "1c704d5e-55ab-466f-ed41-da7369287f2c"
      },
      "source": [
        "avg_price_neigh.plot(kind='bar')"
      ],
      "execution_count": null,
      "outputs": [
        {
          "output_type": "execute_result",
          "data": {
            "text/plain": [
              "<matplotlib.axes._subplots.AxesSubplot at 0x7fee722177d0>"
            ]
          },
          "metadata": {},
          "execution_count": 58
        },
        {
          "output_type": "display_data",
          "data": {
            "image/png": "[encoded data removed]",
            "text/plain": [
              "<Figure size 1080x576 with 1 Axes>"
            ]
          },
          "metadata": {}
        }
      ]
    },
    {
      "cell_type": "markdown",
      "metadata": {
        "id": "LjnHunEarv3-"
      },
      "source": [
        "#3.Does filling the property  with lots of amenities help in increasing the price of the property ?\n",
        "\n",
        "\n",
        "---\n",
        "\n"
      ]
    },
    {
      "cell_type": "code",
      "metadata": {
        "colab": {
          "base_uri": "https://localhost:8080/",
          "height": 585
        },
        "id": "3dK05HHTrq3K",
        "outputId": "be245673-0003-4787-cca1-6e86967acef5"
      },
      "source": [
        "listing_filterdf"
      ],
      "execution_count": null,
      "outputs": [
        {
          "output_type": "execute_result",
          "data": {
            "text/html": [
              "<div>\n",
              "<style scoped>\n",
              "    .dataframe tbody tr th:only-of-type {\n",
              "        vertical-align: middle;\n",
              "    }\n",
              "\n",
              "    .dataframe tbody tr th {\n",
              "        vertical-align: top;\n",
              "    }\n",
              "\n",
              "    .dataframe thead th {\n",
              "        text-align: right;\n",
              "    }\n",
              "</style>\n",
              "<table border=\"1\" class=\"dataframe\">\n",
              "  <thead>\n",
              "    <tr style=\"text-align: right;\">\n",
              "      <th></th>\n",
              "      <th>id</th>\n",
              "      <th>name</th>\n",
              "      <th>neighbourhood_cleansed</th>\n",
              "      <th>latitude</th>\n",
              "      <th>longitude</th>\n",
              "      <th>property_type</th>\n",
              "      <th>room_type</th>\n",
              "      <th>amenities</th>\n",
              "      <th>price</th>\n",
              "    </tr>\n",
              "  </thead>\n",
              "  <tbody>\n",
              "    <tr>\n",
              "      <th>0</th>\n",
              "      <td>20815</td>\n",
              "      <td>The Bosphorus from The Comfy Hill</td>\n",
              "      <td>Besiktas</td>\n",
              "      <td>41.069760</td>\n",
              "      <td>29.043790</td>\n",
              "      <td>Entire rental unit</td>\n",
              "      <td>Entire home/apt</td>\n",
              "      <td>[\"Host greets you\", \"TV with standard cable\", ...</td>\n",
              "      <td>1028.0</td>\n",
              "    </tr>\n",
              "    <tr>\n",
              "      <th>1</th>\n",
              "      <td>27831</td>\n",
              "      <td>Large, clean, spacious apartment</td>\n",
              "      <td>Sisli</td>\n",
              "      <td>41.067770</td>\n",
              "      <td>29.003370</td>\n",
              "      <td>Entire rental unit</td>\n",
              "      <td>Entire home/apt</td>\n",
              "      <td>[\"Fire extinguisher\", \"TV with standard cable\"...</td>\n",
              "      <td>768.0</td>\n",
              "    </tr>\n",
              "    <tr>\n",
              "      <th>2</th>\n",
              "      <td>28277</td>\n",
              "      <td>Duplex Apartment 11 with Terrace</td>\n",
              "      <td>Sisli</td>\n",
              "      <td>41.046720</td>\n",
              "      <td>28.984020</td>\n",
              "      <td>Entire serviced apartment</td>\n",
              "      <td>Entire home/apt</td>\n",
              "      <td>[\"Hot water\", \"Fire extinguisher\", \"TV\", \"Bath...</td>\n",
              "      <td>596.0</td>\n",
              "    </tr>\n",
              "    <tr>\n",
              "      <th>3</th>\n",
              "      <td>28318</td>\n",
              "      <td>Cosy home overlooking Bosphorus</td>\n",
              "      <td>Sariyer</td>\n",
              "      <td>41.091040</td>\n",
              "      <td>29.055800</td>\n",
              "      <td>Entire rental unit</td>\n",
              "      <td>Entire home/apt</td>\n",
              "      <td>[\"Fire extinguisher\", \"TV with standard cable\"...</td>\n",
              "      <td>1072.0</td>\n",
              "    </tr>\n",
              "    <tr>\n",
              "      <th>4</th>\n",
              "      <td>29241</td>\n",
              "      <td>↪ Istanbul, Your second house</td>\n",
              "      <td>Beyoglu</td>\n",
              "      <td>41.048030</td>\n",
              "      <td>28.952270</td>\n",
              "      <td>Private room in rental unit</td>\n",
              "      <td>Private room</td>\n",
              "      <td>[\"Breakfast\", \"TV\", \"Washer\", \"Wifi\", \"Shampoo...</td>\n",
              "      <td>429.0</td>\n",
              "    </tr>\n",
              "    <tr>\n",
              "      <th>...</th>\n",
              "      <td>...</td>\n",
              "      <td>...</td>\n",
              "      <td>...</td>\n",
              "      <td>...</td>\n",
              "      <td>...</td>\n",
              "      <td>...</td>\n",
              "      <td>...</td>\n",
              "      <td>...</td>\n",
              "      <td>...</td>\n",
              "    </tr>\n",
              "    <tr>\n",
              "      <th>24230</th>\n",
              "      <td>51151939</td>\n",
              "      <td>Frame King Room with Balcony</td>\n",
              "      <td>Beyoglu</td>\n",
              "      <td>41.028097</td>\n",
              "      <td>28.973408</td>\n",
              "      <td>Entire rental unit</td>\n",
              "      <td>Entire home/apt</td>\n",
              "      <td>[\"TV\", \"Washer\", \"Wifi\", \"Heating\", \"Air condi...</td>\n",
              "      <td>218.0</td>\n",
              "    </tr>\n",
              "    <tr>\n",
              "      <th>24231</th>\n",
              "      <td>51152217</td>\n",
              "      <td>Frame Apart</td>\n",
              "      <td>Beyoglu</td>\n",
              "      <td>41.028134</td>\n",
              "      <td>28.973256</td>\n",
              "      <td>Entire apartment</td>\n",
              "      <td>Entire home/apt</td>\n",
              "      <td>[\"Hot water\", \"TV\", \"Washer\", \"Wifi\", \"Heating...</td>\n",
              "      <td>197.0</td>\n",
              "    </tr>\n",
              "    <tr>\n",
              "      <th>24232</th>\n",
              "      <td>51156519</td>\n",
              "      <td>Bosphorus View Garden Terrace in Perfect Area</td>\n",
              "      <td>Besiktas</td>\n",
              "      <td>41.041832</td>\n",
              "      <td>29.008368</td>\n",
              "      <td>Entire rental unit</td>\n",
              "      <td>Entire home/apt</td>\n",
              "      <td>[\"Heating\", \"Shampoo\", \"Window AC unit\", \"Pack...</td>\n",
              "      <td>545.0</td>\n",
              "    </tr>\n",
              "    <tr>\n",
              "      <th>24233</th>\n",
              "      <td>51158888</td>\n",
              "      <td>no 1</td>\n",
              "      <td>Beyoglu</td>\n",
              "      <td>41.038915</td>\n",
              "      <td>28.981979</td>\n",
              "      <td>Room in hotel</td>\n",
              "      <td>Private room</td>\n",
              "      <td>[\"Hot water\", \"TV\", \"Lock on bedroom door\", \"B...</td>\n",
              "      <td>455.0</td>\n",
              "    </tr>\n",
              "    <tr>\n",
              "      <th>24234</th>\n",
              "      <td>51167083</td>\n",
              "      <td>Spacious Studio Flat Near Taksim Square</td>\n",
              "      <td>Beyoglu</td>\n",
              "      <td>41.038322</td>\n",
              "      <td>28.980588</td>\n",
              "      <td>Entire rental unit</td>\n",
              "      <td>Entire home/apt</td>\n",
              "      <td>[\"Clothing storage: closet\", \"Mini fridge\", \"S...</td>\n",
              "      <td>1010.0</td>\n",
              "    </tr>\n",
              "  </tbody>\n",
              "</table>\n",
              "<p>24235 rows × 9 columns</p>\n",
              "</div>"
            ],
            "text/plain": [
              "             id  ...   price\n",
              "0         20815  ...  1028.0\n",
              "1         27831  ...   768.0\n",
              "2         28277  ...   596.0\n",
              "3         28318  ...  1072.0\n",
              "4         29241  ...   429.0\n",
              "...         ...  ...     ...\n",
              "24230  51151939  ...   218.0\n",
              "24231  51152217  ...   197.0\n",
              "24232  51156519  ...   545.0\n",
              "24233  51158888  ...   455.0\n",
              "24234  51167083  ...  1010.0\n",
              "\n",
              "[24235 rows x 9 columns]"
            ]
          },
          "metadata": {},
          "execution_count": 60
        }
      ]
    },
    {
      "cell_type": "code",
      "metadata": {
        "id": "vw1ab038sh2u"
      },
      "source": [
        "amenities=listing_filterdf.amenities"
      ],
      "execution_count": null,
      "outputs": []
    },
    {
      "cell_type": "code",
      "metadata": {
        "id": "Rc6GusiZRwtw",
        "colab": {
          "base_uri": "https://localhost:8080/",
          "height": 34
        },
        "outputId": "1d6c71c4-0a34-4c19-8c51-5abe07d3b9d3"
      },
      "source": [
        "amenities[0]"
      ],
      "execution_count": null,
      "outputs": [
        {
          "output_type": "execute_result",
          "data": {
            "application/vnd.google.colaboratory.intrinsic+json": {
              "type": "string"
            },
            "text/plain": [
              "'[\"Host greets you\", \"TV with standard cable\", \"Hangers\", \"Washer\", \"Heating\", \"Air conditioning\", \"Hair dryer\", \"Long term stays allowed\", \"Free parking on premises\", \"Shampoo\", \"Kitchen\", \"Cable TV\", \"Dedicated workspace\", \"Essentials\", \"Iron\"]'"
            ]
          },
          "metadata": {},
          "execution_count": 25
        }
      ]
    },
    {
      "cell_type": "markdown",
      "metadata": {
        "id": "_EW-nNBF7MV9"
      },
      "source": [
        "**Counting the numbers of amenities**"
      ]
    },
    {
      "cell_type": "code",
      "metadata": {
        "colab": {
          "base_uri": "https://localhost:8080/"
        },
        "id": "MmXDpZ5Tuzoc",
        "outputId": "321e16e5-4854-4ef0-ae1a-b8ad21a69869"
      },
      "source": [
        "amenities[0].count(\",\") + 1\n"
      ],
      "execution_count": null,
      "outputs": [
        {
          "output_type": "execute_result",
          "data": {
            "text/plain": [
              "15"
            ]
          },
          "metadata": {},
          "execution_count": 174
        }
      ]
    },
    {
      "cell_type": "code",
      "metadata": {
        "id": "uqO5Tlzjs64a"
      },
      "source": [
        "number_of_amenites=[]\n",
        "for row in amenities:\n",
        "  number_of_amenites.append(row.count(\",\") + 1)"
      ],
      "execution_count": null,
      "outputs": []
    },
    {
      "cell_type": "code",
      "metadata": {
        "colab": {
          "base_uri": "https://localhost:8080/"
        },
        "id": "kJ5GyDFUuIY9",
        "outputId": "364f196e-26f0-4972-9bed-5bb7cb3fc406"
      },
      "source": [
        "number_of_amenites[0]"
      ],
      "execution_count": null,
      "outputs": [
        {
          "output_type": "execute_result",
          "data": {
            "text/plain": [
              "15"
            ]
          },
          "metadata": {},
          "execution_count": 176
        }
      ]
    },
    {
      "cell_type": "code",
      "metadata": {
        "id": "jXU64r4Hwl8T"
      },
      "source": [
        "amenities= amenities.to_frame()"
      ],
      "execution_count": null,
      "outputs": []
    },
    {
      "cell_type": "code",
      "metadata": {
        "id": "CZL-2S4BtFwe"
      },
      "source": [
        "amenities['size']=pd.DataFrame(number_of_amenites)"
      ],
      "execution_count": null,
      "outputs": []
    },
    {
      "cell_type": "code",
      "metadata": {
        "id": "m4neD9R_xV8c"
      },
      "source": [
        "amenities['price']=listing_filterdf['price']"
      ],
      "execution_count": null,
      "outputs": []
    },
    {
      "cell_type": "code",
      "metadata": {
        "colab": {
          "base_uri": "https://localhost:8080/"
        },
        "id": "lNbFx2XZxE_S",
        "outputId": "3660d2cd-321b-4d0f-9ba3-78c2d7286b5d"
      },
      "source": [
        "amenities.head()\n",
        "amenities.size"
      ],
      "execution_count": null,
      "outputs": [
        {
          "output_type": "execute_result",
          "data": {
            "text/plain": [
              "72708"
            ]
          },
          "metadata": {},
          "execution_count": 159
        }
      ]
    },
    {
      "cell_type": "code",
      "metadata": {
        "colab": {
          "base_uri": "https://localhost:8080/",
          "height": 502
        },
        "id": "1emDMCmsx6R5",
        "outputId": "76d615d9-c7f3-4f56-fce0-543884ce64e4"
      },
      "source": [
        "ax = sns.lineplot(x=amenities['size'],y=amenities['price'])"
      ],
      "execution_count": null,
      "outputs": [
        {
          "output_type": "display_data",
          "data": {
            "image/png": "[encoded data removed]",
            "text/plain": [
              "<Figure size 1080x576 with 1 Axes>"
            ]
          },
          "metadata": {}
        }
      ]
    },
    {
      "cell_type": "markdown",
      "metadata": {
        "id": "Z0EzgPLx-qxV"
      },
      "source": [
        "# 4. What are the top 25 type of property available in Istanbul ?"
      ]
    },
    {
      "cell_type": "code",
      "metadata": {
        "id": "A0Lzw3mx-qE9"
      },
      "source": [
        "different_types_properties=listing_filterdf.groupby(listing_filterdf.property_type)['id'].count()"
      ],
      "execution_count": null,
      "outputs": []
    },
    {
      "cell_type": "code",
      "metadata": {
        "colab": {
          "base_uri": "https://localhost:8080/"
        },
        "id": "npDXWV7pKup4",
        "outputId": "12f4e50c-b4fd-4d44-a17f-bbccdc1a5f04"
      },
      "source": [
        "print(len(different_types_properties))\n",
        "different_types_properties"
      ],
      "execution_count": null,
      "outputs": [
        {
          "output_type": "stream",
          "name": "stdout",
          "text": [
            "100\n"
          ]
        },
        {
          "output_type": "execute_result",
          "data": {
            "text/plain": [
              "property_type\n",
              "Entire rental unit             6414\n",
              "Private room in rental unit    4399\n",
              "Entire apartment               2165\n",
              "Room in boutique hotel         1585\n",
              "Entire serviced apartment      1549\n",
              "                               ... \n",
              "Hut                               1\n",
              "Room in casa particular           1\n",
              "Shared room in chalet             1\n",
              "Room in heritage hotel            1\n",
              "Yurt                              1\n",
              "Name: id, Length: 100, dtype: int64"
            ]
          },
          "metadata": {},
          "execution_count": 19
        }
      ]
    },
    {
      "cell_type": "markdown",
      "metadata": {
        "id": "WPMxeP1i7apd"
      },
      "source": [
        "There are 100 different types of property listing, we want the top 25."
      ]
    },
    {
      "cell_type": "code",
      "metadata": {
        "id": "mBNritsjBU9J"
      },
      "source": [
        "different_types_properties=different_types_properties.sort_values(ascending=False)"
      ],
      "execution_count": null,
      "outputs": []
    },
    {
      "cell_type": "code",
      "metadata": {
        "colab": {
          "base_uri": "https://localhost:8080/",
          "height": 717
        },
        "id": "cjeSX02ALI76",
        "outputId": "754f772e-31e4-431d-9faf-718fe51a021b"
      },
      "source": [
        "different_types_properties.head(25).plot(kind='bar')"
      ],
      "execution_count": null,
      "outputs": [
        {
          "output_type": "execute_result",
          "data": {
            "text/plain": [
              "<matplotlib.axes._subplots.AxesSubplot at 0x7f9b2f749fd0>"
            ]
          },
          "metadata": {},
          "execution_count": 22
        },
        {
          "output_type": "display_data",
          "data": {
            "image/png": "[encoded data removed]",
            "text/plain": [
              "<Figure size 1080x576 with 1 Axes>"
            ]
          },
          "metadata": {}
        }
      ]
    },
    {
      "cell_type": "code",
      "metadata": {
        "colab": {
          "base_uri": "https://localhost:8080/",
          "height": 490
        },
        "id": "4jIF3ZLri1iT",
        "outputId": "5ca2d049-3ded-4508-e21b-43b2a75c45c7"
      },
      "source": [
        "corrMatrix = listing_filterdf.corr()\n",
        "sns.heatmap(corrMatrix, annot=True)\n",
        "plt.show()"
      ],
      "execution_count": null,
      "outputs": [
        {
          "output_type": "display_data",
          "data": {
            "image/png": "[encoded data removed]",
            "text/plain": [
              "<Figure size 1080x576 with 2 Axes>"
            ]
          },
          "metadata": {}
        }
      ]
    }
  ]
}